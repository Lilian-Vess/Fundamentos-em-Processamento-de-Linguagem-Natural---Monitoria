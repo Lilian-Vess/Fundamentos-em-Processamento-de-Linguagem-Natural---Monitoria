{
 "cells": [
  {
   "cell_type": "markdown",
   "id": "659eb841",
   "metadata": {},
   "source": [
    "<p>Aula 2 - Geração de um ficheiro a partir de inputs<br />\n",
    "<br />\n",
    "Exercícios<p>"
   ]
  },
  {
   "cell_type": "markdown",
   "id": "68f45cee",
   "metadata": {},
   "source": [
    "<p>1. Criar um programa gerador.py que lê do terminal um título, um autor e um ano de publicação, e de seguida imprime os valores lidos de acordo com um formato.<br />\n",
    "<br />\n",
    "O que fazer:<br />\n",
    "    \n",
    "_Correr o programa_\n",
    "    \n",
    "&emsp;python3 gerador.py\n",
    "\n",
    "_deverá pedir os seguintes inputs (os valores passados são exemplos),_\n",
    "    \n",
    "Insira um título: A Mensagem<br />\n",
    "Insira o autor: Fernando Pessoa<br />\n",
    "Insira a data da publicação: 1934/12/01<br />\n",
    "    \n",
    "_e de seguida deverá imprimir o seguinte,_\n",
    "\n",
    "titulo: A Mensagem<br />\n",
    "autor: Fernando Pessoa<br />\n",
    "data: 1934/12/01<br />\n",
    "</p>"
   ]
  },
  {
   "cell_type": "code",
   "execution_count": 17,
   "id": "3a152368",
   "metadata": {},
   "outputs": [
    {
     "name": "stdout",
     "output_type": "stream",
     "text": [
      "Insira um título: A Mensagem\n",
      "Insira o autor: Fernando Pessoa\n",
      "Insira a data da publicação: 1934/12/01\n",
      "\n",
      "Título: A Mensagem\n",
      "Autor: Fernando Pessoa\n",
      "Data: 1934/12/01\n"
     ]
    }
   ],
   "source": [
    "x = input(\"Insira um título: \")\n",
    "y = input(\"Insira o autor: \")\n",
    "z = input(\"Insira a data da publicação: \")\n",
    "\n",
    "print(f\"\\nTítulo: {x}\\nAutor: {y}\\nData: {z}\")"
   ]
  },
  {
   "cell_type": "markdown",
   "id": "c4a52ab1",
   "metadata": {},
   "source": [
    "<p>2. O texto que imprimimos no exercício anterior está escrito no formato <strong>YAML</strong>. Para além do <strong>YAML</strong>, existem outros formatos, como o <strong>JSON</strong> ou o <strong>XML</strong>. Acrescente ao programa  <i>gerador.py</i>  a possibilidade de escolhermos em que formato <strong>(YAML ou JSON)</strong> é que queremos imprimir o conteúdo final.\n",
    "\n",
    "O que fazer:\n",
    "\n",
    "Para além dos inputs que já passávamos no exercício anterior, vamos acrescentar um novo input que definirá o formato do texto final.\n",
    "\n",
    "_Insira o formato: ..._\n",
    "\n",
    "<strong>Se</strong> o formato for o YAML, <strong>então</strong> o texto continuará a ser:\n",
    "\n",
    "titulo: A Mensagem <br />\n",
    "autor: Fernando Pessoa<br />\n",
    "data: 1934/12/01<br />\n",
    "\n",
    "<strong>Senão</strong>, no caso de ser JSON, deverá imprimir:\n",
    "\n",
    "{<br />\n",
    "&emsp;&emsp;\"titulo\": \"A Mensagem\",<br />\n",
    "&emsp;&emsp;\"autor\": \"Fernando Pessoa\",<br />\n",
    "&emsp;&emsp;\"data\": \"1934/12/01\"<br />\n",
    "}</p>"
   ]
  },
  {
   "cell_type": "code",
   "execution_count": 24,
   "id": "6d39eda3",
   "metadata": {},
   "outputs": [
    {
     "name": "stdout",
     "output_type": "stream",
     "text": [
      "Insira um título: A Mensagem\n",
      "Insira o autor: Fernando Pessoa\n",
      "Insira a data da publicação: 1934/12/01\n",
      "Formato final (YAML ou JSON): json\n",
      "\n",
      " {\n",
      "\t\"Título\": \"A Mensagem\",\n",
      "\t\"Autor\": \"Fernando Pessoa\",\n",
      "\t\"Data\": \"1934/12/01\"\n",
      " }\n"
     ]
    }
   ],
   "source": [
    "# \\' Escape for Single Quote\n",
    "# \\   \\ Escape\n",
    "# \\t TAB\n",
    "# {{ Escape for Brackets \n",
    "\n",
    "x = input(\"Insira um título: \")\n",
    "y = input(\"Insira o autor: \")\n",
    "z = input(\"Insira a data da publicação: \")\n",
    "\n",
    "a = input(\"Formato final (YAML ou JSON): \").upper() #define o formato\n",
    "if a == \"YAML\": \n",
    "    print(f\"\\nTítulo: {x}\\nAutor: {y}\\nData: {z}\") #formato se YAML\n",
    "elif a == \"JSON\":\n",
    "    print(f\"\\n {{\\n\\t\\\"Título\\\": \\\"{x}\\\",\\n\\t\\\"Autor\\\": \\\"{y}\\\",\\n\\t\\\"Data\\\": \\\"{z}\\\"\\n }}\") #formato se JSON"
   ]
  },
  {
   "cell_type": "markdown",
   "id": "84ef5d56",
   "metadata": {},
   "source": [
    "<p>3. Atualize o gerador.py de forma a poder especificar um ficheiro para guardar o texto que gera.<br />\n",
    "\n",
    "<strong>O que fazer:</strong>\n",
    "\n",
    "Acrescentar um novo <i>input</i> ao programa.\n",
    "\n",
    "<i>Insira o nome do ficheiro onde quer guardar o resultado: ...</i>\n",
    "    \n",
    "Por exemplo, imaginemos que o nome do ficheiro introduzido foi <i>mensagem</i>. \n",
    "\n",
    "Se o formato for YAML, o programa deverá criar um ficheiro chamado <i>mensagem.yml</i>.<br />\n",
    "Se for JSON, o ficheiro deverá chamar-se <i>mensagem.json</i>.</p>"
   ]
  },
  {
   "cell_type": "code",
   "execution_count": null,
   "id": "c8139fb8",
   "metadata": {},
   "outputs": [],
   "source": [
    "x = input(\"Insira um título: \")\n",
    "y = input(\"Insira o autor: \")\n",
    "z = input(\"Insira a data da publicação: \")\n",
    "\n",
    "a = input(\"Formato final (YAML ou JSON): \").upper()\n",
    "b = input(\"Nome do ficheiro: \") #recebe nome do ficheiro\n",
    "if a == \"YAML\":\n",
    "    c = str(f\"Título: {x}\\nAutor: {y}\\nData: {z}\")\n",
    "    print(c)\n",
    "    ficheiro = open(f'{b}.yaml', 'w') #cria e nomeia o ficheiro com extensão [.yaml]\n",
    "    ficheiro.write(c) #escreve no ficheiro o conteúdo da variável c\n",
    "    ficheiro.close() #fecha e salva o ficheiro\n",
    "elif a == \"JSON\":\n",
    "    c = str(f\" {{\\n\\t\\\"Título\\\": \\\"{x}\\\",\\n\\t\\\"Autor\\\": \\\"{y}\\\",\\n\\t\\\"Data\\\": \\\"{z}\\\"\\n }}\")\n",
    "    print(c)\n",
    "    ficheiro = open(f'{b}.json', 'w') #cria e nomeia o ficheiro com extensão [.json]\n",
    "    ficheiro.write(c) #escreve no ficheiro o conteúdo da variável c\n",
    "    ficheiro.close() #fecha e salva o ficheiro"
   ]
  },
  {
   "cell_type": "markdown",
   "id": "976ce2dc",
   "metadata": {},
   "source": [
    "<p><strong>Extra</strong><br /> \n",
    "<br /> \n",
    "1. Alguns parâmetros podem ser opcionais, i.e. o utilizador pode decidir não escrever nada. Por exemplo,<br /> \n",
    "\n",
    "&emsp;&emsp;- se o utilizador não passar nenhuma data, não queremos colocar o campo <i>data</i> no resultado final;<br /> "
   ]
  },
  {
   "cell_type": "code",
   "execution_count": 5,
   "id": "6d2a81e6",
   "metadata": {},
   "outputs": [
    {
     "name": "stdout",
     "output_type": "stream",
     "text": [
      "Insira um título: A Mensagem\n",
      "Insira o autor: Fernando Pessoa\n",
      "Insira a data da publicação: \n",
      "Formato final (YAML ou JSON): yaml\n",
      "Nome do ficheiro: mensagem\n",
      "Título: A Mensagem\n",
      "Autor: Fernando Pessoa\n"
     ]
    }
   ],
   "source": [
    "x = input(\"Insira um título: \")\n",
    "y = input(\"Insira o autor: \")\n",
    "z = input(\"Insira a data da publicação: \") #recebe data\n",
    "\n",
    "a = input(\"Formato final (YAML ou JSON): \").upper()\n",
    "b = input(\"Nome do ficheiro: \")\n",
    "if a == \"YAML\": #(se) o formato é YAML...\n",
    "    if z == \"\":  #...e (se) a variável data vazia\n",
    "        c = str(f\"Título: {x}\\nAutor: {y}\") #não temos data no script\n",
    "        print(c)\n",
    "        ficheiro = open(f'{b}.yaml', 'w')\n",
    "        ficheiro.write(c)\n",
    "        ficheiro.close()\n",
    "    else: #(caso contrário) se a variável data não for vazia...\n",
    "        c = str(f\"Título: {x}\\nAutor: {y}\\nData: {z}\") #temos data no script\n",
    "        print(c)\n",
    "        ficheiro = open(f'{b}.yaml', 'w')\n",
    "        ficheiro.write(c)\n",
    "        ficheiro.close()\n",
    "# elif a == \"JSON\": #mesma estrutura acima"
   ]
  },
  {
   "cell_type": "markdown",
   "id": "f77cb5d1",
   "metadata": {},
   "source": [
    "&emsp;&emsp;- caso não passe nenhum formato, o programa deverá assumir o formato YAML por <i>default</i>;<br /> "
   ]
  },
  {
   "cell_type": "code",
   "execution_count": null,
   "id": "441e4887",
   "metadata": {},
   "outputs": [],
   "source": [
    "x = input(\"Insira um título: \")\n",
    "y = input(\"Insira o autor: \")\n",
    "z = input(\"Insira a data da publicação: \") \n",
    "\n",
    "a = input(\"Formato final (YAML ou JSON): \").upper()\n",
    "b = input(\"Nome do ficheiro: \")\n",
    "if a == \"YAML\" or a == \"\": #(se) o formato for YAML ou vazio (\"\") executa-se este script\n",
    "    if z == \"\":\n",
    "        c = str(f\"Título: {x}\\nAutor: {y}\") \n",
    "        print(c)\n",
    "        ficheiro = open(f'{b}.yaml', 'w')\n",
    "        ficheiro.write(c)\n",
    "        ficheiro.close()\n",
    "    else: \n",
    "        c = str(f\"Título: {x}\\nAutor: {y}\\nData: {z}\") \n",
    "        print(c)\n",
    "        ficheiro = open(f'{b}.yaml', 'w')\n",
    "        ficheiro.write(c)\n",
    "        ficheiro.close()"
   ]
  },
  {
   "cell_type": "markdown",
   "id": "4768b6d6",
   "metadata": {},
   "source": [
    "<p>&emsp;&emsp;- se não passar nenhum nome de ficheiro, o programa deverá utilizar o título da obra como nome do ficheiro resultante;<br /></p> "
   ]
  },
  {
   "cell_type": "code",
   "execution_count": null,
   "id": "5772f4f2",
   "metadata": {},
   "outputs": [
    {
     "name": "stdout",
     "output_type": "stream",
     "text": [
      "Insira um título: A Mensagem\n",
      "Insira o autor: Fernando Pessoa\n",
      "Insira a data da publicação: 1934/12/01\n"
     ]
    }
   ],
   "source": [
    "x = input(\"Insira um título: \")\n",
    "y = input(\"Insira o autor: \")\n",
    "z = input(\"Insira a data da publicação: \") \n",
    "\n",
    "a = input(\"Formato final (YAML ou JSON): \").upper()\n",
    "b = input(\"Nome do ficheiro: \")\n",
    "if b == \"\": #(se) o ficheiro não receber nenhum valor/nome...\n",
    "    b = x #...o nome do ficheiro passará a ter o valor/nome da variável x(título)\n",
    "if a == \"YAML\" or a == \"\": \n",
    "    if z == \"\":\n",
    "        c = str(f\"Título: {x}\\nAutor: {y}\") \n",
    "        print(c)\n",
    "        ficheiro = open(f'{b}.yaml', 'w')\n",
    "        ficheiro.write(c)\n",
    "        ficheiro.close()\n",
    "    else: \n",
    "        c = str(f\"Título: {x}\\nAutor: {y}\\nData: {z}\") \n",
    "        print(c)\n",
    "        ficheiro = open(f'{b}.yaml', 'w')\n",
    "        ficheiro.write(c)\n",
    "        ficheiro.close()"
   ]
  },
  {
   "cell_type": "markdown",
   "id": "aa3f0ee5",
   "metadata": {},
   "source": [
    "<p>&emsp;&emsp;- o título e o autor deverão ser obrigatórios. Isto é, caso o utilizador não passe um ou outro, o programa deverá imprimir <br /> uma mensagem de erro (por exemplo: <i>ERRO: Título não pode ser vazio!</i>) e parar.<br /></p>"
   ]
  },
  {
   "cell_type": "code",
   "execution_count": 1,
   "id": "b3305595",
   "metadata": {},
   "outputs": [
    {
     "name": "stdout",
     "output_type": "stream",
     "text": [
      "Insira um título: \n",
      "Insira o autor: Fernando Pessoa\n",
      "Insira a data da publicação: 1934/12/01\n",
      "ERRO: os campos 'título' e 'autor' não podem ser vazios.\n"
     ]
    }
   ],
   "source": [
    "x = input(\"Insira um título: \")\n",
    "y = input(\"Insira o autor: \")\n",
    "z = input(\"Insira a data da publicação: \")\n",
    "if x == \"\" or y == \"\": \n",
    "    print(\"ERRO: os campos 'título' e 'autor' não podem ser vazios.\")"
   ]
  },
  {
   "cell_type": "markdown",
   "id": "5b3297d4",
   "metadata": {},
   "source": [
    "<p>Melhore o <i>gerador.py</i> de forma a que consiga lidar com <i>inputs</i> inválidos ou incompletos.</p>"
   ]
  },
  {
   "cell_type": "code",
   "execution_count": 2,
   "id": "066365ed",
   "metadata": {},
   "outputs": [
    {
     "name": "stdout",
     "output_type": "stream",
     "text": [
      "Insira um título: A Mensagem\n",
      "Insira o autor: \n",
      "Insira a data da publicação: 1934/12/01\n",
      "ERRO: os campos 'título' e 'autor' não podem ser vazios.\n",
      "Insira um título: \n",
      "Insira o autor: Fernando Pessoa\n",
      "Insira a data da publicação: 1934/12/01\n",
      "ERRO: os campos 'título' e 'autor' não podem ser vazios.\n",
      "Insira um título: A Mensagem\n",
      "Insira o autor: Fernando Pessoa\n",
      "Insira a data da publicação: 1934/12/01\n"
     ]
    }
   ],
   "source": [
    "while True: #(enquanto) este loop/script não se encerrar\n",
    "    x = input(\"Insira um título: \")\n",
    "    y = input(\"Insira o autor: \")\n",
    "    z = input(\"Insira a data da publicação: \")\n",
    "    if x == \"\" or y == \"\": #(se) 'título' ou 'autor' forem vazios...\n",
    "        print(\"ERRO: os campos 'título' e 'autor' não podem ser vazios.\")#...imprime esta mensagem...\n",
    "        continue #...e repete este loop/script\n",
    "    else: #(caso contrário)\n",
    "        break #encerra este loop/script"
   ]
  },
  {
   "cell_type": "markdown",
   "id": "3faf1a39",
   "metadata": {},
   "source": [
    "<p>2. Implemente também o formato XML.<br />\n",
    "<br />\n",
    "<i>mensagem.xml</i>"
   ]
  },
  {
   "cell_type": "markdown",
   "id": "82b906e1",
   "metadata": {},
   "source": [
    "<obra data=\"1934/12/01\">\n",
    "    <titulo>A Mensagem</titulo>\n",
    "    <autor>Fernando Pessoa</autor>\n",
    "</obra>"
   ]
  },
  {
   "cell_type": "code",
   "execution_count": 1,
   "id": "8520d61d",
   "metadata": {},
   "outputs": [
    {
     "name": "stdout",
     "output_type": "stream",
     "text": [
      "Insira um título: A Mensagem\n",
      "Insira o autor: Fernando Pessoa\n",
      "Insira a data da publicação: 1934/12/01\n",
      "Formato final (YAML, JSON ou XML): xml\n",
      "Nome do ficheiro: mensagem\n",
      "<obra data=\"1934/12/01\">\n",
      "\t<titulo>A Mensagem</titulo>\n",
      "\t<autor>Fernando Pessoa</autor>\n",
      "</obra>\n"
     ]
    }
   ],
   "source": [
    "# if a == \"YAML\" or a == \"\":...\n",
    "# elif a == \"JSON\": ...\n",
    "x = input(\"Insira um título: \")\n",
    "y = input(\"Insira o autor: \")\n",
    "z = input(\"Insira a data da publicação: \") \n",
    "\n",
    "a = input(\"Formato final (YAML, JSON ou XML): \").upper()\n",
    "b = input(\"Nome do ficheiro: \")\n",
    "if b == \"\": \n",
    "    b = x \n",
    "    \n",
    "if a == \"XML\":\n",
    "    if z == \"\":\n",
    "        c = str(f\"<obra>\\n\\t<titulo>{x}</titulo>\\n\\t<autor>{y}</autor>\\n</obra>\")\n",
    "        print(c)\n",
    "        ficheiro = open(f'{b}.xml', 'w')\n",
    "        ficheiro.write(c)\n",
    "        ficheiro.close()\n",
    "    else:\n",
    "        c = str(f\"<obra data=\\\"{z}\\\">\\n\\t<titulo>{x}</titulo>\\n\\t<autor>{y}</autor>\\n</obra>\")\n",
    "        print(c)\n",
    "        ficheiro = open(f'{b}.xml', 'w')\n",
    "        ficheiro.write(c)\n",
    "        ficheiro.close()"
   ]
  }
 ],
 "metadata": {
  "kernelspec": {
   "display_name": "Python 3 (ipykernel)",
   "language": "python",
   "name": "python3"
  },
  "language_info": {
   "codemirror_mode": {
    "name": "ipython",
    "version": 3
   },
   "file_extension": ".py",
   "mimetype": "text/x-python",
   "name": "python",
   "nbconvert_exporter": "python",
   "pygments_lexer": "ipython3",
   "version": "3.8.10"
  }
 },
 "nbformat": 4,
 "nbformat_minor": 5
}
