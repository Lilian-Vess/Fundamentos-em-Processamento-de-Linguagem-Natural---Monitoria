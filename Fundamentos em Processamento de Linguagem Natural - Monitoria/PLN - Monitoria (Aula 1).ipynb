# -*- coding: utf-8 -*-
{
 "cells": [
  {
   "cell_type": "markdown",
   "id": "659eb841",
   "metadata": {},
   "source": [
    "<p>Aula 1<br />\n",
    "(23-09-2022)<br />\n",
    "<br />\n",
    "Exercícios<p>"
   ]
  },
  {
   "cell_type": "markdown",
   "id": "68f45cee",
   "metadata": {},
   "source": [
    "<p>1. Escreva um programa que imprima na consola o seguinte:<br />\n",
    "Olá, Mundo!</p>"
   ]
  },
  {
   "cell_type": "code",
   "execution_count": 2,
   "id": "3a152368",
   "metadata": {},
   "outputs": [
    {
     "name": "stdout",
     "output_type": "stream",
     "text": [
      "Hello World!\n"
     ]
    }
   ],
   "source": [
    "print(\"Hello World!\")"
   ]
  },
  {
   "cell_type": "markdown",
   "id": "c4a52ab1",
   "metadata": {},
   "source": [
    "<p>2. Escreva um programa que imprima na consola o seguinte:<br />\n",
    "<br />\n",
    "#<br />\n",
    "##<br />\n",
    "###<br />\n",
    "####<br />\n",
    "#####<br /></p>"
   ]
  },
  {
   "cell_type": "code",
   "execution_count": 11,
   "id": "6d39eda3",
   "metadata": {},
   "outputs": [
    {
     "name": "stdout",
     "output_type": "stream",
     "text": [
      "#\n",
      "##\n",
      "###\n",
      "####\n",
      "#####\n"
     ]
    }
   ],
   "source": [
    "# with simple prints\n",
    "x = \"#\"\n",
    "print(f\"{x}\\n{x}{x}\\n{x}{x}{x}\\n{x}{x}{x}{x}\\n{x}{x}{x}{x}{x}\")"
   ]
  },
  {
   "cell_type": "code",
   "execution_count": 12,
   "id": "0b40f534",
   "metadata": {},
   "outputs": [
    {
     "name": "stdout",
     "output_type": "stream",
     "text": [
      "#\n",
      "##\n",
      "###\n",
      "####\n",
      "#####\n"
     ]
    }
   ],
   "source": [
    "# with while\n",
    "x = 0\n",
    "y = \"#\"\n",
    "while x < 5:\n",
    "  print(y)\n",
    "  x = x + 1\n",
    "  y = y + \"#\""
   ]
  },
  {
   "cell_type": "markdown",
   "id": "37513f19",
   "metadata": {},
   "source": [
    "<p>3. Escreva um programa que imprima na consola o seguinte:<br />\n",
    "<br />\n",
    "##########<br />\n",
    "#&nbsp;&nbsp;&nbsp;&nbsp;&nbsp;&nbsp;&nbsp;&nbsp;&nbsp;&nbsp;&nbsp;&nbsp;&nbsp;&nbsp;&nbsp;&nbsp;#<br />\n",
    "#&nbsp;&nbsp;&nbsp;&nbsp;&nbsp;&nbsp;&nbsp;&nbsp;&nbsp;&nbsp;&nbsp;&nbsp;&nbsp;&nbsp;&nbsp;&nbsp;#<br />\n",
    "#&nbsp;&nbsp;&nbsp;&nbsp;&nbsp;&nbsp;&nbsp;&nbsp;&nbsp;&nbsp;&nbsp;&nbsp;&nbsp;&nbsp;&nbsp;&nbsp;#<br />\n",
    "##########</p>"
   ]
  },
  {
   "cell_type": "code",
   "execution_count": 13,
   "id": "320d118e",
   "metadata": {},
   "outputs": [
    {
     "name": "stdout",
     "output_type": "stream",
     "text": [
      "##########\n",
      "#        #\n",
      "#        #\n",
      "#        #\n",
      "##########\n"
     ]
    }
   ],
   "source": [
    "# with simple prints\n",
    "y = \"##########\"\n",
    "z = \"#        #\"\n",
    "print(f\"{y}\\n{z}\\n{z}\\n{z}\\n{y}\")"
   ]
  },
  {
   "cell_type": "markdown",
   "id": "976ce2dc",
   "metadata": {},
   "source": [
    "<p>4. Escreva um programa que leia da consola um nome e imprima uma saudação.<br />\n",
    "Exemplo: se o nome inserido for Pedro, o programa deverá imprimir:<br />\n",
    "Olá, Pedro!</p>"
   ]
  },
  {
   "cell_type": "code",
   "execution_count": 14,
   "id": "6d2a81e6",
   "metadata": {},
   "outputs": [
    {
     "name": "stdout",
     "output_type": "stream",
     "text": [
      "Qual é o seu nome? Pedro\n",
      "Olá, Pedro!\n"
     ]
    }
   ],
   "source": [
    "x = input(\"Qual é o seu nome? \")\n",
    "print(f\"Olá, {x}!\")"
   ]
  }
 ],
 "metadata": {
  "kernelspec": {
   "display_name": "Python 3 (ipykernel)",
   "language": "python",
   "name": "python3"
  },
  "language_info": {
   "codemirror_mode": {
    "name": "ipython",
    "version": 3
   },
   "file_extension": ".py",
   "mimetype": "text/x-python",
   "name": "python",
   "nbconvert_exporter": "python",
   "pygments_lexer": "ipython3",
   "version": "3.8.10"
  }
 },
 "nbformat": 4,
 "nbformat_minor": 5
}
